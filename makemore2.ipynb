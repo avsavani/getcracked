{
 "cells": [
  {
   "cell_type": "markdown",
   "id": "6f8445c5",
   "metadata": {},
   "source": [
    "# Makemore 2"
   ]
  },
  {
   "cell_type": "code",
   "execution_count": 1,
   "id": "01811fcd",
   "metadata": {
    "id": "01811fcd"
   },
   "outputs": [],
   "source": [
    "import torch\n",
    "import matplotlib.pyplot as plt"
   ]
  },
  {
   "cell_type": "code",
   "execution_count": 2,
   "id": "d4dde07c",
   "metadata": {
    "id": "d4dde07c"
   },
   "outputs": [],
   "source": [
    "import torch.nn.functional as F"
   ]
  },
  {
   "cell_type": "code",
   "execution_count": 3,
   "id": "0327b75f",
   "metadata": {
    "id": "0327b75f"
   },
   "outputs": [],
   "source": [
    "%matplotlib inline"
   ]
  },
  {
   "cell_type": "code",
   "execution_count": 4,
   "id": "02876bf7",
   "metadata": {
    "id": "02876bf7"
   },
   "outputs": [],
   "source": [
    "words =  open(\"names.txt\",'r').read().splitlines()"
   ]
  },
  {
   "cell_type": "code",
   "execution_count": 5,
   "id": "3aeb985d",
   "metadata": {
    "id": "3aeb985d"
   },
   "outputs": [],
   "source": [
    "chars =  list(set(''.join(words)))\n",
    "stoi = {ch:i for i,ch in enumerate(chars)}\n",
    "stoi['.'] = 0\n",
    "itos = { i:ch for ch,i in stoi.items()}"
   ]
  },
  {
   "cell_type": "code",
   "execution_count": 6,
   "id": "a6a81ebb",
   "metadata": {
    "colab": {
     "base_uri": "https://localhost:8080/"
    },
    "id": "a6a81ebb",
    "outputId": "afa71bb3-1fe1-4277-93a4-10709ab05c1d"
   },
   "outputs": [
    {
     "name": "stdout",
     "output_type": "stream",
     "text": [
      "{0: '.', 1: 'b', 2: 'x', 3: 'c', 4: 'o', 5: 'q', 6: 'h', 7: 's', 8: 'e', 9: 'v', 10: 'p', 11: 'd', 12: 'w', 13: 'g', 14: 'r', 15: 'j', 16: 'y', 17: 'i', 18: 'z', 19: 'f', 20: 'n', 21: 'k', 22: 'm', 23: 't', 24: 'l', 25: 'a'}\n"
     ]
    }
   ],
   "source": [
    "print(itos)"
   ]
  },
  {
   "cell_type": "code",
   "execution_count": 138,
   "id": "0D5tjHJjrL6C",
   "metadata": {
    "id": "0D5tjHJjrL6C"
   },
   "outputs": [],
   "source": [
    "import random\n",
    "random.seed(42)\n",
    "random.shuffle(words)"
   ]
  },
  {
   "cell_type": "code",
   "execution_count": 170,
   "id": "15348fe8",
   "metadata": {
    "id": "15348fe8"
   },
   "outputs": [],
   "source": [
    "# create the dataset with block_size and label\n",
    "def dataset(words,block_size=3):\n",
    "    context = [0]*block_size\n",
    "    Y = []\n",
    "    X = []\n",
    "    for w in words:\n",
    "        # print(w)\n",
    "        for ch in w+'.':\n",
    "            ix = stoi[ch]\n",
    "            X.append(context)\n",
    "            Y.append(ix)\n",
    "            # print(''.join([itos[x]for x in context]),\" ----> \",itos[ix])\n",
    "            context = context[1:] + [ix]\n",
    "\n",
    "    return torch.tensor(X),torch.tensor(Y)"
   ]
  },
  {
   "cell_type": "code",
   "execution_count": 175,
   "id": "lyMsgnRMR511",
   "metadata": {
    "id": "lyMsgnRMR511"
   },
   "outputs": [],
   "source": [
    "emb_dim = 10\n",
    "b_size=5\n",
    "n=200\n",
    "vocab_size = 27\n",
    "batch_size = 32"
   ]
  },
  {
   "cell_type": "markdown",
   "id": "e5ac3a2f",
   "metadata": {},
   "source": [
    "### Train, Val, Test split"
   ]
  },
  {
   "cell_type": "code",
   "execution_count": 176,
   "id": "a18a157d",
   "metadata": {
    "id": "a18a157d"
   },
   "outputs": [],
   "source": [
    "X,Y = dataset(words,block_size=b_size)"
   ]
  },
  {
   "cell_type": "code",
   "execution_count": 177,
   "id": "0bfc01c9",
   "metadata": {},
   "outputs": [],
   "source": [
    "n1 = int(0.8*len(words))\n",
    "n2 = int(0.9*len(words))\n",
    "Xtr,Ytr = dataset(words[:n1],block_size=b_size)\n",
    "Xdev,Ydev = dataset(words[n1:n2],block_size=b_size)\n",
    "Xtest,Ytest = dataset(words[n2:],block_size=b_size)"
   ]
  },
  {
   "cell_type": "code",
   "execution_count": 178,
   "id": "74b62492",
   "metadata": {},
   "outputs": [
    {
     "name": "stdout",
     "output_type": "stream",
     "text": [
      "torch.Size([182519, 5]) torch.Size([182519])\n",
      "torch.Size([22806, 5]) torch.Size([22806])\n",
      "torch.Size([22821, 5]) torch.Size([22821])\n"
     ]
    }
   ],
   "source": [
    "print(Xtr.shape,Ytr.shape)\n",
    "print(Xdev.shape,Ydev.shape)\n",
    "print(Xtest.shape,Ytest.shape)"
   ]
  },
  {
   "cell_type": "markdown",
   "id": "6b5145bf",
   "metadata": {},
   "source": [
    "### Parameters init"
   ]
  },
  {
   "cell_type": "code",
   "execution_count": 179,
   "id": "c8764acd",
   "metadata": {
    "id": "c8764acd"
   },
   "outputs": [],
   "source": [
    "g = torch.Generator().manual_seed(2147483647) # for reproducibility\n",
    "C = torch.randn(vocab_size,emb_dim)\n",
    "W1 = torch.randn((emb_dim*b_size,n))\n",
    "b1 = torch.randn(n)\n",
    "W2 = torch.randn(n,vocab_size)\n",
    "b2 = torch.randn(vocab_size)\n",
    "parameters = [C,W1,b1,W2,b2]\n",
    "\n",
    "# each of the set of parameters needs to be set this to avoid getting erorr\n",
    "for p in parameters:\n",
    "    p.requires_grad = True"
   ]
  },
  {
   "cell_type": "code",
   "execution_count": 180,
   "id": "f52885b0",
   "metadata": {},
   "outputs": [
    {
     "data": {
      "text/plain": [
       "15897"
      ]
     },
     "execution_count": 180,
     "metadata": {},
     "output_type": "execute_result"
    }
   ],
   "source": [
    "sum(p.nelement() for p in parameters) # total number of parameters"
   ]
  },
  {
   "cell_type": "markdown",
   "id": "St9_B3yYTlsv",
   "metadata": {
    "id": "St9_B3yYTlsv"
   },
   "source": [
    "### Forward Pass"
   ]
  },
  {
   "cell_type": "code",
   "execution_count": 181,
   "id": "v5FlcfNGvzOk",
   "metadata": {
    "id": "v5FlcfNGvzOk"
   },
   "outputs": [],
   "source": [
    "lre = torch.linspace(-3,1,1000)\n",
    "lrs = 10**lre"
   ]
  },
  {
   "cell_type": "code",
   "execution_count": 182,
   "id": "4e08773a",
   "metadata": {
    "id": "4e08773a"
   },
   "outputs": [],
   "source": [
    "lres = []\n",
    "lossi = []\n",
    "stepi=[]\n",
    "for i in range(200000):\n",
    "    ix = torch.randint(0,X.shape[0],(batch_size,))\n",
    "    emb = C[X[ix]]\n",
    "    h = torch.tanh(emb.view(-1,emb_dim*b_size) @ W1 + b1)\n",
    "    logits = h @ W2 + b2\n",
    "    loss = F.cross_entropy(logits,Y[ix])\n",
    "    # print(loss.item())\n",
    "\n",
    "    for p in parameters:\n",
    "        p.grad = None\n",
    "\n",
    "    loss.backward()\n",
    "    lr = 0.1 if i < 100000 else 0.01\n",
    "    for p in parameters:\n",
    "        p.data += -lr * p.grad\n",
    "    # lres.append(lre[i])\n",
    "    lossi.append(loss.item())\n",
    "    stepi.append(i)"
   ]
  },
  {
   "cell_type": "code",
   "execution_count": 183,
   "id": "862eb6b8",
   "metadata": {},
   "outputs": [
    {
     "data": {
      "text/plain": [
       "[<matplotlib.lines.Line2D at 0x17ec58e80>]"
      ]
     },
     "execution_count": 183,
     "metadata": {},
     "output_type": "execute_result"
    },
    {
     "data": {
      "image/png": "[encoded data removed]",
      "text/plain": [
       "<Figure size 640x480 with 1 Axes>"
      ]
     },
     "metadata": {},
     "output_type": "display_data"
    }
   ],
   "source": [
    "plt.plot(stepi,torch.tensor(lossi).log())"
   ]
  },
  {
   "cell_type": "markdown",
   "id": "0056b557",
   "metadata": {},
   "source": [
    "### training loss "
   ]
  },
  {
   "cell_type": "code",
   "execution_count": 184,
   "id": "d84abf9c",
   "metadata": {},
   "outputs": [
    {
     "data": {
      "text/plain": [
       "tensor(2.1805, grad_fn=<NllLossBackward0>)"
      ]
     },
     "execution_count": 184,
     "metadata": {},
     "output_type": "execute_result"
    }
   ],
   "source": [
    "\n",
    "emb = C[Xtr] # (32, 3, 2)\n",
    "h = torch.tanh(emb.view(-1, emb_dim*b_size) @ W1 + b1) # (32, 100)\n",
    "logits = h @ W2 + b2 # (32, 27)\n",
    "loss = F.cross_entropy(logits, Ytr)\n",
    "loss"
   ]
  },
  {
   "cell_type": "markdown",
   "id": "LbOMqjVrtgcs",
   "metadata": {
    "id": "LbOMqjVrtgcs"
   },
   "source": [
    "### val loss"
   ]
  },
  {
   "cell_type": "code",
   "execution_count": 185,
   "id": "4Qt5SkCMtfwU",
   "metadata": {
    "id": "4Qt5SkCMtfwU"
   },
   "outputs": [
    {
     "name": "stdout",
     "output_type": "stream",
     "text": [
      "2.192669630050659\n"
     ]
    }
   ],
   "source": [
    "emb = C[Xdev]\n",
    "h = torch.tanh(emb.view(-1,emb_dim*b_size) @ W1 + b1)\n",
    "logits = h @ W2 + b2\n",
    "loss = F.cross_entropy(logits,Ydev)\n",
    "print(loss.item())"
   ]
  },
  {
   "cell_type": "markdown",
   "id": "dc3a5ecb",
   "metadata": {},
   "source": [
    "### test loss"
   ]
  },
  {
   "cell_type": "code",
   "execution_count": 186,
   "id": "GLhMOoK8RbdS",
   "metadata": {
    "id": "GLhMOoK8RbdS"
   },
   "outputs": [
    {
     "name": "stdout",
     "output_type": "stream",
     "text": [
      "2.1796822547912598\n"
     ]
    }
   ],
   "source": [
    "emb = C[Xtest]\n",
    "h = torch.tanh(emb.view(-1,emb_dim*b_size) @ W1 + b1)\n",
    "logits = h @ W2 + b2\n",
    "loss = F.cross_entropy(logits,Ytest)\n",
    "print(loss.item())"
   ]
  },
  {
   "cell_type": "code",
   "execution_count": 187,
   "id": "7b3d57f1",
   "metadata": {},
   "outputs": [
    {
     "name": "stdout",
     "output_type": "stream",
     "text": [
      "cisylelin.\n",
      "yvilie.\n",
      "qgzyl.\n",
      "qvian.\n",
      "ymsin.\n",
      "qpz.\n",
      "erirhoy.\n",
      "ymen.\n",
      "ysiev.\n",
      "yivariyace.\n",
      "vvior.\n",
      "wessyn.\n",
      "wrs.\n",
      "iviniel.\n",
      "ivir.\n",
      "qmse.\n",
      "ivixi.\n",
      "iisney.\n",
      "yvizalilyn.\n",
      "qisok.\n"
     ]
    }
   ],
   "source": [
    "# sample from the model\n",
    "g = torch.Generator().manual_seed(2147483647 + 10)\n",
    "\n",
    "for _ in range(20):\n",
    "    \n",
    "    out = []\n",
    "    context = [0] * b_size # initialize with all ...\n",
    "    while True:\n",
    "        emb = C[torch.tensor([context])] # (1,block_size,d)\n",
    "        h = torch.tanh(emb.view(1, -1) @ W1 + b1)\n",
    "        logits = h @ W2 + b2\n",
    "        probs = F.softmax(logits, dim=1)\n",
    "        ix = torch.multinomial(probs, num_samples=1, generator=g).item()\n",
    "        context = context[1:] + [ix]\n",
    "        out.append(ix)\n",
    "        if ix == 0:\n",
    "            break\n",
    "    \n",
    "    print(''.join(itos[i] for i in out))"
   ]
  },
  {
   "cell_type": "code",
   "execution_count": null,
   "id": "565a381a",
   "metadata": {},
   "outputs": [],
   "source": []
  }
 ],
 "metadata": {
  "accelerator": "GPU",
  "colab": {
   "gpuType": "T4",
   "provenance": []
  },
  "kernelspec": {
   "display_name": "Python 3 (ipykernel)",
   "language": "python",
   "name": "python3"
  },
  "language_info": {
   "codemirror_mode": {
    "name": "ipython",
    "version": 3
   },
   "file_extension": ".py",
   "mimetype": "text/x-python",
   "name": "python",
   "nbconvert_exporter": "python",
   "pygments_lexer": "ipython3",
   "version": "3.10.0"
  }
 },
 "nbformat": 4,
 "nbformat_minor": 5
}
