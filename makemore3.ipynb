{
 "cells": [
  {
   "cell_type": "markdown",
   "id": "6f8445c5",
   "metadata": {},
   "source": [
    "# Makemore 3"
   ]
  },
  {
   "cell_type": "code",
   "execution_count": 1,
   "id": "01811fcd",
   "metadata": {
    "id": "01811fcd"
   },
   "outputs": [],
   "source": [
    "import torch\n",
    "import matplotlib.pyplot as plt\n",
    "import torch.nn.functional as F\n",
    "%matplotlib inline"
   ]
  },
  {
   "cell_type": "code",
   "execution_count": 2,
   "id": "02876bf7",
   "metadata": {
    "id": "02876bf7"
   },
   "outputs": [
    {
     "data": {
      "text/plain": [
       "['emma', 'olivia', 'ava', 'isabella', 'sophia', 'charlotte', 'mia', 'amelia']"
      ]
     },
     "execution_count": 2,
     "metadata": {},
     "output_type": "execute_result"
    }
   ],
   "source": [
    "words =  open(\"names.txt\",'r').read().splitlines()\n",
    "words[:8]"
   ]
  },
  {
   "cell_type": "code",
   "execution_count": 3,
   "id": "6c298e2a",
   "metadata": {},
   "outputs": [
    {
     "data": {
      "text/plain": [
       "32033"
      ]
     },
     "execution_count": 3,
     "metadata": {},
     "output_type": "execute_result"
    }
   ],
   "source": [
    "len(words)"
   ]
  },
  {
   "cell_type": "markdown",
   "id": "3eb4b46e",
   "metadata": {},
   "source": [
    "#### build vocab of chars and mapping from/to integers"
   ]
  },
  {
   "cell_type": "code",
   "execution_count": 4,
   "id": "3aeb985d",
   "metadata": {
    "id": "3aeb985d"
   },
   "outputs": [
    {
     "name": "stdout",
     "output_type": "stream",
     "text": [
      "{'m': 1, 'k': 2, 'h': 3, 'v': 4, 'u': 5, 'l': 6, 'd': 7, 'c': 8, 'a': 9, 'p': 10, 'b': 11, 'n': 12, 'r': 13, 'e': 14, 'j': 15, 'o': 16, 't': 17, 'g': 18, 'f': 19, 's': 20, 'y': 21, 'z': 22, 'i': 23, 'w': 24, 'x': 25, 'q': 26, '.': 0}\n",
      "----------------------------\n",
      "27\n"
     ]
    }
   ],
   "source": [
    "chars =  list(set(''.join(words)))\n",
    "stoi = {ch:i+1 for i,ch in enumerate(chars)}\n",
    "stoi['.'] = 0\n",
    "itos = { i:ch for ch,i in stoi.items()}\n",
    "vocab_size = len(stoi)\n",
    "print(stoi)\n",
    "print(\"----------------------------\")\n",
    "print(vocab_size)"
   ]
  },
  {
   "cell_type": "code",
   "execution_count": 5,
   "id": "15348fe8",
   "metadata": {
    "id": "15348fe8"
   },
   "outputs": [
    {
     "name": "stdout",
     "output_type": "stream",
     "text": [
      "torch.Size([182625, 3]) torch.Size([182625])\n",
      "torch.Size([22655, 3]) torch.Size([22655])\n",
      "torch.Size([22866, 3]) torch.Size([22866])\n"
     ]
    }
   ],
   "source": [
    "# create the dataset with block_size and label\n",
    "block_size = 3\n",
    "def build_dataset(words):\n",
    "    context = [0]*block_size\n",
    "    X,Y = [],[]\n",
    "    for w in words:\n",
    "        # print(w)\n",
    "        for ch in w+'.':\n",
    "            ix = stoi[ch]\n",
    "            X.append(context)\n",
    "            Y.append(ix)\n",
    "            # print(''.join([itos[x]for x in context]),\" ----> \",itos[ix])\n",
    "            context = context[1:] + [ix]\n",
    "    X,Y = torch.tensor(X),torch.tensor(Y)\n",
    "    print(X.shape,Y.shape)\n",
    "    return X,Y\n",
    "\n",
    "import random\n",
    "random.seed(42)\n",
    "random.shuffle(words)\n",
    "\n",
    "n1 = int(0.8*len(words))\n",
    "n2 = int(0.9*len(words))\n",
    "\n",
    "Xtr,Ytr = build_dataset(words[:n1])      #80%\n",
    "Xdev,Ydev = build_dataset(words[n1:n2])  #10%\n",
    "Xte,Yte = build_dataset(words[n2:])      #10%"
   ]
  },
  {
   "cell_type": "markdown",
   "id": "6b5145bf",
   "metadata": {},
   "source": [
    "### Parameters init"
   ]
  },
  {
   "cell_type": "code",
   "execution_count": 7,
   "id": "2a600468",
   "metadata": {},
   "outputs": [],
   "source": [
    "# khaiming normal init for tanh non linerality \n",
    "# kn = (5/3) / (n_embd*block_size)**0.5"
   ]
  },
  {
   "cell_type": "markdown",
   "id": "e0f54095",
   "metadata": {},
   "source": [
    "### [batch noramlization](https://arxiv.org/pdf/1502.03167)"
   ]
  },
  {
   "cell_type": "code",
   "execution_count": 8,
   "id": "ea9d4346",
   "metadata": {},
   "outputs": [],
   "source": [
    "# take the mean of each nueron activation values \n",
    "# subtract the mean from hpreact and divide by std of the same\n",
    "# add gain and shift (equivalant to w and b) \n",
    "# so nuerons can learn learn those features of the distribution from data"
   ]
  },
  {
   "cell_type": "code",
   "execution_count": 9,
   "id": "c8764acd",
   "metadata": {
    "id": "c8764acd"
   },
   "outputs": [
    {
     "name": "stdout",
     "output_type": "stream",
     "text": [
      "12097\n"
     ]
    }
   ],
   "source": [
    "n_embd = 10 # the dimentionality of the character embedding vector\n",
    "n_hidden=200 # number of nuerons in hidden layer of the MLP\n",
    "\n",
    "g  = torch.Generator().manual_seed(2147483647)  # for reproducibility\n",
    "C  = torch.randn((vocab_size,n_embd),           generator=g)\n",
    "W1 = torch.randn((n_embd*block_size,n_hidden),  generator=g) * (5/3)/((n_embd * block_size)**0.5) #* 0.2\n",
    "# b1 = torch.randn(n_hidden,                      generator=g) * 0.01 \n",
    "W2 = torch.randn((n_hidden,vocab_size),         generator=g) * 0.01\n",
    "b2 = torch.randn(vocab_size,                    generator=g) * 0 \n",
    "\n",
    "bngain = torch.ones((1,n_hidden))\n",
    "bnbias = torch.randn((1,n_hidden))\n",
    "\n",
    "bnmean_running = torch.zeros((1,n_hidden))\n",
    "bnstd_running = torch.ones((1,n_hidden))\n",
    "\n",
    "parameters = [C,W1,W2,b2,bngain,bnbias]\n",
    "print(sum(p.nelement() for p in parameters)) # total number of parameters\n",
    "for p in parameters:\n",
    "    p.requires_grad = True\n"
   ]
  },
  {
   "cell_type": "code",
   "execution_count": 11,
   "id": "4e08773a",
   "metadata": {
    "id": "4e08773a"
   },
   "outputs": [
    {
     "name": "stdout",
     "output_type": "stream",
     "text": [
      "      0/ 200000: 2.042166\n",
      "  10000/ 200000: 1.997786\n",
      "  20000/ 200000: 2.348114\n",
      "  30000/ 200000: 2.022869\n",
      "  40000/ 200000: 2.180098\n",
      "  50000/ 200000: 2.016807\n",
      "  60000/ 200000: 2.273655\n",
      "  70000/ 200000: 2.351571\n",
      "  80000/ 200000: 2.079373\n",
      "  90000/ 200000: 1.781339\n",
      " 100000/ 200000: 2.128270\n",
      " 110000/ 200000: 2.275824\n",
      " 120000/ 200000: 2.084750\n",
      " 130000/ 200000: 1.645144\n",
      " 140000/ 200000: 1.859368\n",
      " 150000/ 200000: 1.959660\n",
      " 160000/ 200000: 1.942291\n",
      " 170000/ 200000: 1.736757\n",
      " 180000/ 200000: 2.109583\n",
      " 190000/ 200000: 2.178949\n"
     ]
    }
   ],
   "source": [
    "max_steps = 200000\n",
    "batch_size = 32\n",
    "lossi = []\n",
    "for i in range(200000):\n",
    "    \n",
    "    #minibatch creation\n",
    "    ix = torch.randint(0,Xtr.shape[0],(batch_size,),generator=g)\n",
    "    Xb,Yb = Xtr[ix],Ytr[ix]\n",
    "    \n",
    "    # Forward Pass\n",
    "    emb = C[Xb] # embed chars into vectors\n",
    "    embcat = emb.view(emb.shape[0],-1) # concatenate the vectors\n",
    "    hpreact = embcat @ W1 #+ b1   # hidden layer pre-activation\n",
    "    \n",
    "    # batchnorm layer\n",
    "    bnmeani = hpreact.mean(0,keepdim=True)\n",
    "    bnstdi = hpreact.std(0,keepdim=True)\n",
    "    hpreact = bngain * (hpreact - bnmeani / bnstdi) + bnbias\n",
    "    \n",
    "    # nonlinear Layer\n",
    "    h = torch.tanh(hpreact)   #hidden layer \n",
    "    logits = h @ W2 + b2   #output layer\n",
    "    loss = F.cross_entropy(logits,Yb) #loss function\n",
    "    \n",
    "    with torch.no_grad():\n",
    "        bnmean_running = bnmean_running * 0.999 + 0.001 * bnmeani\n",
    "        bnstd_running = bnstd_running * 0.999 + 0.001 * bnstdi\n",
    "        \n",
    "    #  backward pass\n",
    "    for p in parameters:\n",
    "        p.grad = None\n",
    "    loss.backward()\n",
    "    \n",
    "    lr = 0.1 if i < 100000 else 0.01\n",
    "    for p in parameters:\n",
    "        p.data += -lr * p.grad\n",
    "\n",
    "    # track stats\n",
    "    if i%10000 == 0:\n",
    "        print(f'{i:7d}/{max_steps:7d}: {loss.item():4f}')\n",
    "#         break\n",
    "    lossi.append(loss.log10().item())"
   ]
  },
  {
   "cell_type": "code",
   "execution_count": 12,
   "id": "647ccc42",
   "metadata": {},
   "outputs": [],
   "source": [
    "# since we coupled the batch of training examples and with mean and std \n",
    "# but during inference we are only using single example at a time \n",
    "# we have to caliberate the inference by calculating mean and std of traning data "
   ]
  },
  {
   "cell_type": "code",
   "execution_count": 14,
   "id": "d6531127",
   "metadata": {},
   "outputs": [],
   "source": [
    "# caliberate the inference by calculating mean std over training set\n",
    "\n",
    "with torch.no_grad():\n",
    "    emb = C[Xtr]\n",
    "    embcat = emb.view(-1,n_embd*block_size)\n",
    "    hpreact = embcat @ W1 #+ b1\n",
    "    bnmean = hpreact.mean(0,keepdim=True)\n",
    "    bnstd = hpreact.std(0,keepdim=True)"
   ]
  },
  {
   "cell_type": "code",
   "execution_count": null,
   "id": "53fdfd3a",
   "metadata": {},
   "outputs": [],
   "source": [
    "# above cell is understanding purpose only , running mean and running std is used in production"
   ]
  },
  {
   "cell_type": "markdown",
   "id": "0056b557",
   "metadata": {},
   "source": [
    "### training loss "
   ]
  },
  {
   "cell_type": "code",
   "execution_count": null,
   "id": "d84abf9c",
   "metadata": {},
   "outputs": [],
   "source": [
    "@torch.no_grad() # this decorator disables gradient tracking \n",
    "def split_losss(split):\n",
    "    X,Y={\n",
    "        'train': (Xtr,Ytr) ,\n",
    "        'val':   (Xdev,Ydev) ,\n",
    "        'test':  (Xte,Yte)\n",
    "    }[split]\n",
    "    emb = C[X] # (32, 3, 2)\n",
    "    embcat = emb.view(emb.shape[0],-1)\n",
    "    hpreact = embcat @ W1 #+ b1  \n",
    "    hpreact = bngain * (hpreact-bnmean_running / bnstd_running) + bnbias\n",
    "    h = torch.tanh(hpreact)\n",
    "    logits = h @ W2 + b2 \n",
    "    loss = F.cross_entropy(logits, Y)\n",
    "    print(split,loss.item())\n",
    "\n",
    "split_losss(\"train\")\n",
    "split_losss(\"val\")"
   ]
  },
  {
   "cell_type": "code",
   "execution_count": null,
   "id": "7b3d57f1",
   "metadata": {},
   "outputs": [],
   "source": [
    "# sample from the model\n",
    "g = torch.Generator().manual_seed(2147483647 + 10)\n",
    "\n",
    "for _ in range(20):\n",
    "    \n",
    "    out = []\n",
    "    context = [0] * block_size # initialize with all ...\n",
    "    while True:\n",
    "        emb = C[torch.tensor([context])] # (1,block_size,d)\n",
    "        embcat = emb.view(emb.shape[0],-1)\n",
    "        hpreact = embcat @ W1 #+ b1 \n",
    "        hpreact = bngain * (hpreact-bnmean_running / bnstd_running) + bnbias\n",
    "        h = torch.tanh(hpreact)\n",
    "        logits = h @ W2 + b2\n",
    "        probs = F.softmax(logits, dim=1)\n",
    "        # Sample from the distribution\n",
    "        ix = torch.multinomial(probs, num_samples=1, generator=g).item()\n",
    "        # shift the context window and track the smaples \n",
    "        context = context[1:] + [ix]\n",
    "        # if  we sample the special '.' token, break\n",
    "        out.append(ix)\n",
    "        if ix == 0:\n",
    "            break\n",
    "    \n",
    "    print(''.join(itos[i] for i in out)) # decode and print the generated word"
   ]
  },
  {
   "cell_type": "code",
   "execution_count": null,
   "id": "50ab8aab",
   "metadata": {},
   "outputs": [],
   "source": []
  }
 ],
 "metadata": {
  "accelerator": "GPU",
  "colab": {
   "gpuType": "T4",
   "provenance": []
  },
  "kernelspec": {
   "display_name": "Python 3 (ipykernel)",
   "language": "python",
   "name": "python3"
  },
  "language_info": {
   "codemirror_mode": {
    "name": "ipython",
    "version": 3
   },
   "file_extension": ".py",
   "mimetype": "text/x-python",
   "name": "python",
   "nbconvert_exporter": "python",
   "pygments_lexer": "ipython3",
   "version": "3.10.0"
  }
 },
 "nbformat": 4,
 "nbformat_minor": 5
}
